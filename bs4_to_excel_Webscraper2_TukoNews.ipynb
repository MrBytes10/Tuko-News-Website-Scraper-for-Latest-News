{
 "cells": [
  {
   "cell_type": "markdown",
   "metadata": {},
   "source": [
    "# Tuko News webscraper"
   ]
  },
  {
   "cell_type": "code",
   "execution_count": 1,
   "metadata": {},
   "outputs": [
    {
     "data": {
      "text/plain": [
       "'print(\"the response code is:\", response)'"
      ]
     },
     "execution_count": 1,
     "metadata": {},
     "output_type": "execute_result"
    }
   ],
   "source": [
    "import requests\n",
    "from bs4 import BeautifulSoup\n",
    "import time\n",
    "import pandas as pd\n",
    "\n",
    "# Requesting the website data\n",
    "URL=\"https://www.tuko.co.ke/\"\n",
    "response= requests.get(URL)\n",
    "\"\"\"print(\"the response code is:\", response)\"\"\"\n"
   ]
  },
  {
   "cell_type": "code",
   "execution_count": 2,
   "metadata": {},
   "outputs": [
    {
     "data": {
      "text/plain": [
       "'print(soup)'"
      ]
     },
     "execution_count": 2,
     "metadata": {},
     "output_type": "execute_result"
    }
   ],
   "source": [
    "# Parse the HTML Document\n",
    "soup= BeautifulSoup(response.content, \"html.parser\")\n",
    "\"\"\"print(soup)\"\"\" # This would print the whole html document for tuko news\n"
   ]
  },
  {
   "cell_type": "code",
   "execution_count": 5,
   "metadata": {},
   "outputs": [],
   "source": [
    "# Extract the news articles headlines from the HTML Document\n",
    "articles = soup.find_all('article')\n",
    "# Lists to store data\n",
    "data = []\n",
    "\n",
    "# Extracting details from each article\n",
    "for article in articles:\n",
    "    headline_tag = article.find('a', class_='c-article-card-with-badges__headline')\n",
    "    time_tag = article.find('time', class_='c-article-info__time--clock')\n",
    "    \n",
    "    if headline_tag and time_tag:\n",
    "        headline = headline_tag.text.strip()\n",
    "        time_posted = time_tag['datetime']\n",
    "        link = headline_tag['href']\n",
    "        \n",
    "        data.append([time_posted, headline, link])\n"
   ]
  },
  {
   "cell_type": "code",
   "execution_count": 6,
   "metadata": {},
   "outputs": [
    {
     "name": "stdout",
     "output_type": "stream",
     "text": [
      "Data has been saved to tuko_news.xlsx\n"
     ]
    }
   ],
   "source": [
    "# Create a DataFrame\n",
    "df = pd.DataFrame(data, columns=[\"time posted\", \"article headline\", \"article link\"])\n",
    "\n",
    "# Convert the time posted column to datetime and remove timezone info\n",
    "df[\"time posted\"] = pd.to_datetime(df[\"time posted\"]).dt.tz_localize(None)\n",
    "\n",
    "# Sort the DataFrame by the time posted in descending order\n",
    "df = df.sort_values(by=\"time posted\", ascending=False)\n",
    "\n",
    "# Save the DataFrame to an Excel file\n",
    "df.to_excel(\"tuko_news.xlsx\", index=False)\n",
    "\n",
    "print(\"Data has been saved to tuko_news.xlsx\")\n"
   ]
  }
 ],
 "metadata": {
  "kernelspec": {
   "display_name": "Python 3",
   "language": "python",
   "name": "python3"
  },
  "language_info": {
   "codemirror_mode": {
    "name": "ipython",
    "version": 3
   },
   "file_extension": ".py",
   "mimetype": "text/x-python",
   "name": "python",
   "nbconvert_exporter": "python",
   "pygments_lexer": "ipython3",
   "version": "3.12.4"
  }
 },
 "nbformat": 4,
 "nbformat_minor": 2
}
