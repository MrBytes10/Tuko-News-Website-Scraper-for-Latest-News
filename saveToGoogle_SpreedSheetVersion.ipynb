{
 "cells": [
  {
   "cell_type": "code",
   "execution_count": 2,
   "metadata": {},
   "outputs": [
    {
     "name": "stdout",
     "output_type": "stream",
     "text": [
      "The response code is: <Response [200]>\n"
     ]
    },
    {
     "ename": "ModuleNotFoundError",
     "evalue": "No module named 'google.colab'",
     "output_type": "error",
     "traceback": [
      "\u001b[1;31m---------------------------------------------------------------------------\u001b[0m",
      "\u001b[1;31mModuleNotFoundError\u001b[0m                       Traceback (most recent call last)",
      "Cell \u001b[1;32mIn[2], line 46\u001b[0m\n\u001b[0;32m     43\u001b[0m df \u001b[38;5;241m=\u001b[39m df\u001b[38;5;241m.\u001b[39msort_values(by\u001b[38;5;241m=\u001b[39m\u001b[38;5;124m\"\u001b[39m\u001b[38;5;124mtime posted\u001b[39m\u001b[38;5;124m\"\u001b[39m, ascending\u001b[38;5;241m=\u001b[39m\u001b[38;5;28;01mFalse\u001b[39;00m)\n\u001b[0;32m     45\u001b[0m \u001b[38;5;66;03m# Authenticate and initialize gspread\u001b[39;00m\n\u001b[1;32m---> 46\u001b[0m \u001b[38;5;28;01mfrom\u001b[39;00m \u001b[38;5;21;01mgoogle\u001b[39;00m\u001b[38;5;21;01m.\u001b[39;00m\u001b[38;5;21;01mcolab\u001b[39;00m \u001b[38;5;28;01mimport\u001b[39;00m auth\n\u001b[0;32m     47\u001b[0m auth\u001b[38;5;241m.\u001b[39mauthenticate_user()\n\u001b[0;32m     49\u001b[0m \u001b[38;5;28;01mimport\u001b[39;00m \u001b[38;5;21;01mgspread\u001b[39;00m\n",
      "\u001b[1;31mModuleNotFoundError\u001b[0m: No module named 'google.colab'"
     ]
    }
   ],
   "source": [
    "# This one ypou must run on 'google.colab', because we can'n install the module via pip\n",
    "from IPython import get_ipython\n",
    "from IPython.display import display\n",
    "# %%\n",
    "# Tuko News webscraper\n",
    "import requests\n",
    "from bs4 import BeautifulSoup\n",
    "import time\n",
    "import pandas as pd\n",
    "\n",
    "# Requesting the website data\n",
    "URL = \"https://www.tuko.co.ke/\"\n",
    "response = requests.get(URL)\n",
    "print(\"The response code is:\", response)\n",
    "\n",
    "# Parse the HTML Document\n",
    "soup = BeautifulSoup(response.content, \"html.parser\")\n",
    "\n",
    "# Extract the news headlines from the HTML Document\n",
    "articles = soup.find_all('article')\n",
    "\n",
    "# Lists to store data\n",
    "data = []\n",
    "\n",
    "# Extracting details from each article\n",
    "for article in articles:\n",
    "    headline_tag = article.find('a', class_='c-article-card-with-badges__headline')\n",
    "    time_tag = article.find('time', class_='c-article-info__time--clock')\n",
    "    \n",
    "    if headline_tag and time_tag:\n",
    "        headline = headline_tag.text.strip()\n",
    "        time_posted = time_tag['datetime']\n",
    "        link = headline_tag['href']\n",
    "        \n",
    "        data.append([time_posted, headline, link])\n",
    "\n",
    "# Create a DataFrame\n",
    "df = pd.DataFrame(data, columns=[\"time posted\", \"article headline\", \"article link\"])\n",
    "\n",
    "# Convert the time posted column to datetime and remove timezone info\n",
    "df[\"time posted\"] = pd.to_datetime(df[\"time posted\"]).dt.tz_localize(None)\n",
    "\n",
    "# Sort the DataFrame by the time posted in descending order\n",
    "df = df.sort_values(by=\"time posted\", ascending=False)\n",
    "\n",
    "# Authenticate and initialize gspread\n",
    "from google.colab import auth\n",
    "auth.authenticate_user()\n",
    "\n",
    "import gspread\n",
    "from google.auth import default\n",
    "creds, _ = default()\n",
    "gc = gspread.authorize(creds)\n",
    "\n",
    "# Check if the spreadsheet exists, and create it if it doesn't\n",
    "try:\n",
    "    sh = gc.open(\"Tuko-Latest-News\")\n",
    "except gspread.exceptions.SpreadsheetNotFound:\n",
    "    sh = gc.create(\"Tuko-Latest-News\")  # Create the spreadsheet if it doesn't exist\n",
    "\n",
    "# Select or create a worksheet\n",
    "worksheet = sh.sheet1\n",
    "\n",
    "# Convert Timestamp objects to strings before appending\n",
    "data_list = df.astype(str).values.tolist()  # Convert Timestamps to strings \n",
    "worksheet.append_rows(data_list)\n",
    "\n",
    "print(\"Data has been saved to Tuko-Latest-News\")\n",
    "# %%\n"
   ]
  }
 ],
 "metadata": {
  "kernelspec": {
   "display_name": "Python 3",
   "language": "python",
   "name": "python3"
  },
  "language_info": {
   "codemirror_mode": {
    "name": "ipython",
    "version": 3
   },
   "file_extension": ".py",
   "mimetype": "text/x-python",
   "name": "python",
   "nbconvert_exporter": "python",
   "pygments_lexer": "ipython3",
   "version": "3.12.4"
  }
 },
 "nbformat": 4,
 "nbformat_minor": 2
}
